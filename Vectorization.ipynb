{
  "nbformat": 4,
  "nbformat_minor": 0,
  "metadata": {
    "colab": {
      "provenance": []
    },
    "kernelspec": {
      "name": "python3",
      "display_name": "Python 3"
    },
    "language_info": {
      "name": "python"
    }
  },
  "cells": [
    {
      "cell_type": "code",
      "source": [
        "import pandas as pd\n",
        "from sklearn.feature_extraction.text import CountVectorizer, TfidfVectorizer\n",
        "\n",
        "# Sample dataset\n",
        "documents = [\n",
        "    \"Machine learning is fun.\",\n",
        "    \"Natural language processing is a subfield of AI.\",\n",
        "    \"Deep learning is a branch of machine learning.\"\n",
        "]\n",
        "\n",
        "# BoW\n",
        "count_vectorizer = CountVectorizer()\n",
        "bow_matrix = count_vectorizer.fit_transform(documents)\n",
        "\n",
        "# TF-IDF\n",
        "tfidf_vectorizer = TfidfVectorizer()\n",
        "tfidf_matrix = tfidf_vectorizer.fit_transform(documents)\n",
        "\n",
        "# Convert to DataFrame for readability\n",
        "bow_df = pd.DataFrame(bow_matrix.toarray(), columns=count_vectorizer.get_feature_names_out())\n",
        "tfidf_df = pd.DataFrame(tfidf_matrix.toarray(), columns=tfidf_vectorizer.get_feature_names_out())\n",
        "\n",
        "print(\"Bag of Words Representation:\\n\", bow_df)\n",
        "print(\"\\nTF-IDF Representation:\\n\", tfidf_df)\n"
      ],
      "metadata": {
        "colab": {
          "base_uri": "https://localhost:8080/"
        },
        "id": "uGqfi2OECEsz",
        "outputId": "3a0a5cc2-d228-45f4-9b08-905cdb9dc8a5"
      },
      "execution_count": null,
      "outputs": [
        {
          "output_type": "stream",
          "name": "stdout",
          "text": [
            "Bag of Words Representation:\n",
            "    ai  branch  deep  fun  is  language  learning  machine  natural  of  \\\n",
            "0   0       0     0    1   1         0         1        1        0   0   \n",
            "1   1       0     0    0   1         1         0        0        1   1   \n",
            "2   0       1     1    0   1         0         2        1        0   1   \n",
            "\n",
            "   processing  subfield  \n",
            "0           0         0  \n",
            "1           1         1  \n",
            "2           0         0  \n",
            "\n",
            "TF-IDF Representation:\n",
            "          ai    branch      deep       fun        is  language  learning  \\\n",
            "0  0.000000  0.000000  0.000000  0.631745  0.373119  0.000000  0.480458   \n",
            "1  0.410747  0.000000  0.000000  0.000000  0.242594  0.410747  0.000000   \n",
            "2  0.000000  0.414541  0.414541  0.000000  0.244835  0.000000  0.630538   \n",
            "\n",
            "    machine   natural        of  processing  subfield  \n",
            "0  0.480458  0.000000  0.000000    0.000000  0.000000  \n",
            "1  0.000000  0.410747  0.312384    0.410747  0.410747  \n",
            "2  0.315269  0.000000  0.315269    0.000000  0.000000  \n"
          ]
        }
      ]
    }
  ]
}